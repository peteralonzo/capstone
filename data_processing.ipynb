{
 "cells": [
  {
   "cell_type": "code",
   "execution_count": 1,
   "metadata": {},
   "outputs": [],
   "source": [
    "# !pip install boto3\n",
    "# !pip install s3fs"
   ]
  },
  {
   "cell_type": "code",
   "execution_count": 2,
   "metadata": {},
   "outputs": [],
   "source": [
    "import boto3\n",
    "import pandas as pd\n",
    "import configparser\n",
    "config = configparser.ConfigParser()\n",
    "\n",
    "config.read('aws.cfg')\n",
    "AWS_ACCESS_KEY = config['AWS']['aws_access_key']\n",
    "AWS_SECRET_KEY = config['AWS']['aws_secret_key']"
   ]
  },
  {
   "cell_type": "code",
   "execution_count": 25,
   "metadata": {},
   "outputs": [],
   "source": [
    "bucket_name = 'capstone-techcatalyst-raw'\n",
    "s3_client = boto3.client('s3', aws_access_key_id = AWS_ACCESS_KEY, aws_secret_access_key = AWS_SECRET_KEY)"
   ]
  },
  {
   "cell_type": "code",
   "execution_count": 27,
   "metadata": {},
   "outputs": [
    {
     "data": {
      "text/plain": [
       "'green_taxi/'"
      ]
     },
     "execution_count": 27,
     "metadata": {},
     "output_type": "execute_result"
    }
   ],
   "source": [
    "green_taxi = s3_client.list_objects_v2(Bucket=bucket_name, Prefix='green_taxi')\n",
    "green_taxi_files = [obj['Key'] for obj in green_taxi['Contents']]\n",
    "green_taxi_files.pop(0)"
   ]
  },
  {
   "cell_type": "code",
   "execution_count": 28,
   "metadata": {},
   "outputs": [
    {
     "data": {
      "text/plain": [
       "['green_taxi/green_tripdata_2023-09.parquet',\n",
       " 'green_taxi/green_tripdata_2023-10.parquet',\n",
       " 'green_taxi/green_tripdata_2023-11.parquet',\n",
       " 'green_taxi/green_tripdata_2023-12.parquet',\n",
       " 'green_taxi/green_tripdata_2024-01.parquet',\n",
       " 'green_taxi/green_tripdata_2024-02.parquet',\n",
       " 'green_taxi/green_tripdata_2024-03.parquet',\n",
       " 'green_taxi/green_tripdata_2024-04.parquet',\n",
       " 'green_taxi/green_tripdata_2024-05.parquet']"
      ]
     },
     "execution_count": 28,
     "metadata": {},
     "output_type": "execute_result"
    }
   ],
   "source": [
    "green_taxi_files"
   ]
  }
 ],
 "metadata": {
  "kernelspec": {
   "display_name": "Python 3",
   "language": "python",
   "name": "python3"
  },
  "language_info": {
   "codemirror_mode": {
    "name": "ipython",
    "version": 3
   },
   "file_extension": ".py",
   "mimetype": "text/x-python",
   "name": "python",
   "nbconvert_exporter": "python",
   "pygments_lexer": "ipython3",
   "version": "3.10.13"
  }
 },
 "nbformat": 4,
 "nbformat_minor": 2
}
