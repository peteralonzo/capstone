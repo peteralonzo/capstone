{
 "cells": [
  {
   "cell_type": "code",
   "execution_count": 1,
   "metadata": {},
   "outputs": [],
   "source": [
    "# !pip install boto3\n",
    "# !pip install s3fs"
   ]
  },
  {
   "cell_type": "code",
   "execution_count": 2,
   "metadata": {},
   "outputs": [],
   "source": [
    "import boto3\n",
    "import pandas as pd\n",
    "import configparser\n",
    "config = configparser.ConfigParser()\n",
    "\n",
    "config.read('aws.cfg')\n",
    "AWS_ACCESS_KEY = config['AWS']['aws_access_key']\n",
    "AWS_SECRET_KEY = config['AWS']['aws_secret_key']"
   ]
  },
  {
   "cell_type": "code",
   "execution_count": 3,
   "metadata": {},
   "outputs": [],
   "source": [
    "s3_client = boto3.client('s3', aws_access_key_id = AWS_ACCESS_KEY, aws_secret_access_key = AWS_SECRET_KEY)"
   ]
  },
  {
   "cell_type": "code",
   "execution_count": 4,
   "metadata": {},
   "outputs": [],
   "source": [
    "response = s3_client.list_buckets()\n",
    "buckets = [bucket['Name'] for bucket in response['Buckets']]\n",
    "bucket_name = 'capstone-techcatalyst-raw'\n",
    "obj_r = s3_client.list_objects_v2(Bucket=bucket_name)\n",
    "data_list = [obj['Key'] for obj in obj_r['Contents']]"
   ]
  },
  {
   "cell_type": "code",
   "execution_count": 5,
   "metadata": {},
   "outputs": [
    {
     "data": {
      "text/plain": [
       "['green_taxi/',\n",
       " 'green_taxi/green_tripdata_2023-09.parquet',\n",
       " 'green_taxi/green_tripdata_2023-10.parquet',\n",
       " 'green_taxi/green_tripdata_2023-11.parquet',\n",
       " 'green_taxi/green_tripdata_2023-12.parquet',\n",
       " 'green_taxi/green_tripdata_2024-01.parquet',\n",
       " 'green_taxi/green_tripdata_2024-02.parquet',\n",
       " 'green_taxi/green_tripdata_2024-03.parquet',\n",
       " 'green_taxi/green_tripdata_2024-04.parquet',\n",
       " 'green_taxi/green_tripdata_2024-05.parquet',\n",
       " 'hvfhv/',\n",
       " 'hvfhv/fhvhv_tripdata_2024-01.parquet',\n",
       " 'hvfhv/fhvhv_tripdata_2024-02.parquet',\n",
       " 'hvfhv/fhvhv_tripdata_2024-03.parquet',\n",
       " 'hvfhv/fhvhv_tripdata_2024-04.parquet',\n",
       " 'hvfhv/fhvhv_tripdata_2024-05.parquet',\n",
       " 'other/',\n",
       " 'other/Weather Data NYC.xlsx',\n",
       " 'other/taxi_zone_lookup.csv',\n",
       " 'reference_material/',\n",
       " 'reference_material/data_dictionary_trip_records_green.pdf',\n",
       " 'reference_material/data_dictionary_trip_records_hvfhs.pdf',\n",
       " 'reference_material/data_dictionary_trip_records_yellow.pdf',\n",
       " 'reference_material/taxi_zone_map_bronx.jpg',\n",
       " 'reference_material/taxi_zone_map_brooklyn.jpg',\n",
       " 'reference_material/taxi_zone_map_manhattan.jpg',\n",
       " 'reference_material/taxi_zone_map_queens.jpg',\n",
       " 'reference_material/taxi_zone_map_staten_island.jpg',\n",
       " 'reference_material/trip_record_user_guide.pdf',\n",
       " 'yellow_taxi/',\n",
       " 'yellow_taxi/yellow_tripdata_2023-09.parquet',\n",
       " 'yellow_taxi/yellow_tripdata_2023-10.parquet',\n",
       " 'yellow_taxi/yellow_tripdata_2023-11.parquet',\n",
       " 'yellow_taxi/yellow_tripdata_2023-12.parquet',\n",
       " 'yellow_taxi/yellow_tripdata_2024-01.parquet',\n",
       " 'yellow_taxi/yellow_tripdata_2024-02.parquet',\n",
       " 'yellow_taxi/yellow_tripdata_2024-03.parquet',\n",
       " 'yellow_taxi/yellow_tripdata_2024-04.parquet',\n",
       " 'yellow_taxi/yellow_tripdata_2024-05.parquet']"
      ]
     },
     "execution_count": 5,
     "metadata": {},
     "output_type": "execute_result"
    }
   ],
   "source": [
    "data_list"
   ]
  }
 ],
 "metadata": {
  "kernelspec": {
   "display_name": "Python 3",
   "language": "python",
   "name": "python3"
  },
  "language_info": {
   "codemirror_mode": {
    "name": "ipython",
    "version": 3
   },
   "file_extension": ".py",
   "mimetype": "text/x-python",
   "name": "python",
   "nbconvert_exporter": "python",
   "pygments_lexer": "ipython3",
   "version": "3.10.13"
  }
 },
 "nbformat": 4,
 "nbformat_minor": 2
}
