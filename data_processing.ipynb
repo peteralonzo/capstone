{
 "cells": [
  {
   "cell_type": "code",
   "execution_count": 2,
   "metadata": {},
   "outputs": [],
   "source": [
    "# !pip install boto3\n",
    "# !pip install s3fs"
   ]
  },
  {
   "cell_type": "code",
   "execution_count": 3,
   "metadata": {},
   "outputs": [],
   "source": [
    "import boto3\n",
    "import pandas as pd\n",
    "import configparser\n",
    "import s3fs\n",
    "config = configparser.ConfigParser()\n",
    "\n",
    "config.read('aws.cfg')\n",
    "AWS_ACCESS_KEY = config['AWS']['aws_access_key']\n",
    "AWS_SECRET_KEY = config['AWS']['aws_secret_key']"
   ]
  },
  {
   "cell_type": "code",
   "execution_count": 4,
   "metadata": {},
   "outputs": [],
   "source": [
    "bucket_name = 'capstone-techcatalyst-raw'\n",
    "s3_client = boto3.client('s3', aws_access_key_id = AWS_ACCESS_KEY, aws_secret_access_key = AWS_SECRET_KEY)"
   ]
  },
  {
   "cell_type": "code",
   "execution_count": 5,
   "metadata": {},
   "outputs": [
    {
     "data": {
      "text/plain": [
       "'green_taxi/'"
      ]
     },
     "execution_count": 5,
     "metadata": {},
     "output_type": "execute_result"
    }
   ],
   "source": [
    "green_taxi_obj = s3_client.list_objects_v2(Bucket=bucket_name, Prefix='green_taxi')\n",
    "green_taxi_files = [obj['Key'] for obj in green_taxi_obj['Contents']]\n",
    "green_taxi_files.pop(0)"
   ]
  },
  {
   "cell_type": "code",
   "execution_count": 6,
   "metadata": {},
   "outputs": [
    {
     "data": {
      "text/plain": [
       "'yellow_taxi/'"
      ]
     },
     "execution_count": 6,
     "metadata": {},
     "output_type": "execute_result"
    }
   ],
   "source": [
    "yellow_taxi_obj = s3_client.list_objects_v2(Bucket=bucket_name, Prefix='yellow_taxi')\n",
    "yellow_taxi_files = [obj['Key'] for obj in yellow_taxi_obj['Contents']]\n",
    "yellow_taxi_files.pop(0)"
   ]
  },
  {
   "cell_type": "code",
   "execution_count": 15,
   "metadata": {},
   "outputs": [
    {
     "data": {
      "text/plain": [
       "['yellow_taxi/yellow_tripdata_2024-01.parquet',\n",
       " 'yellow_taxi/yellow_tripdata_2024-02.parquet',\n",
       " 'yellow_taxi/yellow_tripdata_2024-03.parquet',\n",
       " 'yellow_taxi/yellow_tripdata_2024-04.parquet',\n",
       " 'yellow_taxi/yellow_tripdata_2024-05.parquet']"
      ]
     },
     "execution_count": 15,
     "metadata": {},
     "output_type": "execute_result"
    }
   ],
   "source": [
    "yellow_taxi_2023_files = yellow_taxi_files[:4]\n",
    "yellow_taxi_2024_files = yellow_taxi_files[4:]"
   ]
  },
  {
   "cell_type": "code",
   "execution_count": 16,
   "metadata": {},
   "outputs": [],
   "source": [
    "def generate_url(bucket, file):\n",
    "    url = f's3://{bucket}/{file}'\n",
    "    return url"
   ]
  },
  {
   "cell_type": "code",
   "execution_count": 13,
   "metadata": {},
   "outputs": [],
   "source": [
    "green_taxi = pd.DataFrame()\n",
    "for file in green_taxi_files:\n",
    "    url = generate_url(bucket_name, file)\n",
    "    temp = pd.read_parquet(url, storage_options={'key' : AWS_ACCESS_KEY, 'secret' : AWS_SECRET_KEY})\n",
    "    # print(f\"Adding {temp.shape[0]} records from {file}\")\n",
    "    green_taxi = pd.concat([green_taxi, temp], axis=0)"
   ]
  },
  {
   "cell_type": "code",
   "execution_count": 17,
   "metadata": {},
   "outputs": [
    {
     "ename": "",
     "evalue": "",
     "output_type": "error",
     "traceback": [
      "\u001b[1;31mThe Kernel crashed while executing code in the current cell or a previous cell. \n",
      "\u001b[1;31mPlease review the code in the cell(s) to identify a possible cause of the failure. \n",
      "\u001b[1;31mClick <a href='https://aka.ms/vscodeJupyterKernelCrash'>here</a> for more info. \n",
      "\u001b[1;31mView Jupyter <a href='command:jupyter.viewOutput'>log</a> for further details."
     ]
    }
   ],
   "source": [
    "yellow_taxi_2023 = pd.DataFrame()\n",
    "for file in yellow_taxi_2023_files:\n",
    "    url = generate_url(bucket_name, file)\n",
    "    temp = pd.read_parquet(url, storage_options={'key' : AWS_ACCESS_KEY, 'secret' : AWS_SECRET_KEY})\n",
    "    # print(f\"Adding {temp.shape[0]} records from {file}\")\n",
    "    yellow_taxi_2023 = pd.concat([yellow_taxi_2023, temp], axis=0)"
   ]
  },
  {
   "cell_type": "code",
   "execution_count": null,
   "metadata": {},
   "outputs": [
    {
     "name": "stdout",
     "output_type": "stream",
     "text": [
      "Number of records: 544947\n"
     ]
    }
   ],
   "source": [
    "print(f\"Number of records: {green_taxi.shape[0]}\")"
   ]
  },
  {
   "cell_type": "code",
   "execution_count": null,
   "metadata": {},
   "outputs": [
    {
     "data": {
      "text/plain": [
       "Index(['VendorID', 'lpep_pickup_datetime', 'lpep_dropoff_datetime',\n",
       "       'store_and_fwd_flag', 'RatecodeID', 'PULocationID', 'DOLocationID',\n",
       "       'passenger_count', 'trip_distance', 'fare_amount', 'extra', 'mta_tax',\n",
       "       'tip_amount', 'tolls_amount', 'ehail_fee', 'improvement_surcharge',\n",
       "       'total_amount', 'payment_type', 'trip_type', 'congestion_surcharge'],\n",
       "      dtype='object')"
      ]
     },
     "execution_count": 23,
     "metadata": {},
     "output_type": "execute_result"
    }
   ],
   "source": [
    "green_taxi.columns"
   ]
  }
 ],
 "metadata": {
  "kernelspec": {
   "display_name": "Python 3",
   "language": "python",
   "name": "python3"
  },
  "language_info": {
   "codemirror_mode": {
    "name": "ipython",
    "version": 3
   },
   "file_extension": ".py",
   "mimetype": "text/x-python",
   "name": "python",
   "nbconvert_exporter": "python",
   "pygments_lexer": "ipython3",
   "version": "3.10.13"
  }
 },
 "nbformat": 4,
 "nbformat_minor": 2
}
